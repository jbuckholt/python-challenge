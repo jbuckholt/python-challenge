{
 "cells": [
  {
   "cell_type": "code",
   "execution_count": 5,
   "metadata": {},
   "outputs": [
    {
     "name": "stdout",
     "output_type": "stream",
     "text": [
      "Total votes cast 1048575\n",
      "Khan had a total vote count of 661583 or 63.09353169778033 percent.\n",
      "Correy had a total vote count of 209046 or 19.93619912738717 percent.\n",
      "Li had a total vote count of 146360 or 13.957990606299026 percent.\n",
      "O'Tooley had a total vote count of 31586 or 3.0122785685334863 percent.\n"
     ]
    }
   ],
   "source": [
    "# First we'll import the os module\n",
    "# This will allow us to create file paths across operating systems\n",
    "import os\n",
    "\n",
    "# Module for reading CSV files\n",
    "import csv\n",
    "import pandas as pd\n",
    "\n",
    "csvpath = os.path.join('..', 'PyPoll', 'election.csv')\n",
    "\n",
    "# open(csvpath) as csvfile:\n",
    "\n",
    "vote_df = pd.read_csv(csvpath)\n",
    "#vote_df.head()\n",
    "\n",
    "#counts the total numbers of votes cast\n",
    "total_count = vote_df['Candidate'].str.contains('', na=False).sum()\n",
    "print(f\"Total votes cast {total_count}\")\n",
    "elections = vote_df.Candidate.unique()\n",
    "#print (elections)\n",
    "\n",
    "# for loop finding the total votes for each candidate and total vote percentages.\n",
    "for var in elections:\n",
    "        count = vote_df['Candidate'].str.contains(var,na=False).sum()\n",
    "        per = (count / total_count) * 100\n",
    "        print (f\"{var} had a total vote count of {count} or {per} percent.\")\n",
    "        \n",
    "    \n"
   ]
  },
  {
   "cell_type": "code",
   "execution_count": 10,
   "metadata": {},
   "outputs": [],
   "source": [
    "# zip lists together\n",
    "\n",
    "cleaned_csv = list(zip([elections, count, per]))\n",
    "\n",
    "# set variable for output file\n",
    "output_file = os.path.join(\"vote_final.csv\")\n",
    "# open the output file\n",
    "with open(output_file, \"w\") as datafile:\n",
    "    writer = csv.writer(datafile)\n",
    "        \n",
    "    #write zipped rows\n",
    "    writer.writerows(cleaned_csv)"
   ]
  },
  {
   "cell_type": "code",
   "execution_count": null,
   "metadata": {},
   "outputs": [],
   "source": []
  }
 ],
 "metadata": {
  "kernelspec": {
   "display_name": "Python 3",
   "language": "python",
   "name": "python3"
  },
  "language_info": {
   "codemirror_mode": {
    "name": "ipython",
    "version": 3
   },
   "file_extension": ".py",
   "mimetype": "text/x-python",
   "name": "python",
   "nbconvert_exporter": "python",
   "pygments_lexer": "ipython3",
   "version": "3.7.6"
  }
 },
 "nbformat": 4,
 "nbformat_minor": 4
}
