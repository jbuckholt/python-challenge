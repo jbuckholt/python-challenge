{
 "cells": [
  {
   "cell_type": "code",
   "execution_count": 26,
   "metadata": {},
   "outputs": [
    {
     "name": "stdout",
     "output_type": "stream",
     "text": [
      "There are 86 months in the list\n",
      "The total Profit and loss is:$38382578\n",
      "Profit/Losses    446309.046512\n",
      "dtype: float64, average\n",
      "The month with the max profit is:         Date  Profit/Losses\n",
      "25  2/12/2020        1170593\n",
      "The month with the minimum profit is:         Date  Profit/Losses\n",
      "44  9/13/2020       -1196225\n"
     ]
    }
   ],
   "source": [
    "# First we'll import the os module\n",
    "# This will allow us to create file paths across operating systems\n",
    "import os\n",
    "\n",
    "# Module for reading CSV files\n",
    "import csv\n",
    "import pandas as pd\n",
    "\n",
    "csvpath = os.path.join('..', 'Pybank', 'data.csv')\n",
    "\n",
    "\n",
    "#with open(csvpath) as csvfile:\n",
    "\n",
    "data_df = pd.read_csv(csvpath)\n",
    "\n",
    "\n",
    "# counts the number of months in column Date\n",
    "count = data_df['Date'].str.contains('', na=False).sum()\n",
    "# adding the total of the profit/loss column\n",
    "total = data_df['Profit/Losses'].sum()\n",
    "# finding the average of the totals\n",
    "\n",
    "av_column = data_df.mean(axis = 0)\n",
    "#print (av_column)\n",
    "\n",
    "# finding max in the profit/loss column and printing the date\n",
    "max_profit = data_df.nlargest(1, ['Profit/Losses']) \n",
    "\n",
    "# finding minimum in the profit/loss column and printing the date\n",
    "min_profit = data_df.nsmallest(1, ['Profit/Losses'])\n",
    "\n",
    "\n",
    "print(f\"There are {count} months in the list\")\n",
    "print(f\"The total Profit and loss is:${total}\")\n",
    "print(f\"{av_column}, average\")\n",
    "print(f\"The month with the max profit is:{max_profit}\")\n",
    "print(f\"The month with the minimum profit is:{min_profit}\")\n",
    "\n"
   ]
  },
  {
   "cell_type": "code",
   "execution_count": 27,
   "metadata": {},
   "outputs": [],
   "source": [
    "# zip lists together\n",
    "\n",
    "#cleaned_csv = zip(count, total, av_column, max_profit, min_profit)\n",
    "cleaned_csv = list(zip([count, total, av_column, max_profit, min_profit]))\n",
    "# set variable for output file\n",
    "output_file = os.path.join(\"data_final.csv\")\n",
    "# open the output file\n",
    "with open(output_file, \"w\") as datafile:\n",
    "    writer = csv.writer(datafile)\n",
    "        \n",
    "    #write zipped rows\n",
    "    writer.writerows(cleaned_csv)"
   ]
  },
  {
   "cell_type": "code",
   "execution_count": null,
   "metadata": {},
   "outputs": [],
   "source": []
  }
 ],
 "metadata": {
  "kernelspec": {
   "display_name": "Python 3",
   "language": "python",
   "name": "python3"
  },
  "language_info": {
   "codemirror_mode": {
    "name": "ipython",
    "version": 3
   },
   "file_extension": ".py",
   "mimetype": "text/x-python",
   "name": "python",
   "nbconvert_exporter": "python",
   "pygments_lexer": "ipython3",
   "version": "3.7.6"
  }
 },
 "nbformat": 4,
 "nbformat_minor": 4
}
